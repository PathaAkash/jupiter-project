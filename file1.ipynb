{
 "cells": [
  {
   "cell_type": "markdown",
   "id": "ce89a684-3b76-49f1-97b0-80fef5ba4172",
   "metadata": {},
   "source": [
    "### Data Science Tools\n",
    "| Category | Tool Name |\n",
    "|---|---|\n",
    "| Data Management | MySQL, PostgreSQL |\n",
    "| Data Integration | Apache Airflow |\n",
    "| Data Visualization| Tableau, Power BI |\n",
    "| Machine Learning| Weka, scikit-learn |"
   ]
  },
  {
   "cell_type": "code",
   "execution_count": null,
   "id": "c7f99855-6f51-47f8-8f5e-ade57bbce33e",
   "metadata": {},
   "outputs": [],
   "source": []
  }
 ],
 "metadata": {
  "kernelspec": {
   "display_name": "Python 3 (ipykernel)",
   "language": "python",
   "name": "python3"
  },
  "language_info": {
   "codemirror_mode": {
    "name": "ipython",
    "version": 3
   },
   "file_extension": ".py",
   "mimetype": "text/x-python",
   "name": "python",
   "nbconvert_exporter": "python",
   "pygments_lexer": "ipython3",
   "version": "3.12.8"
  }
 },
 "nbformat": 4,
 "nbformat_minor": 5
}
