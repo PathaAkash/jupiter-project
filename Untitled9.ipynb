{
 "cells": [
  {
   "cell_type": "markdown",
   "id": "6914c60f-4060-438e-bc68-dd12147b6383",
   "metadata": {},
   "source": [
    "### Objectives of this Notebook\n",
    "* Understand key data science languages and libraries.\n",
    "* Practice using markdown and code cells.\n",
    "* Demonstrate basic arithmetic operations in a code cell.\n",
    "* Convert units using a Python code cell.\n",
    "* Showcase basic notebook creation for public sharing on GitHub."
   ]
  },
  {
   "cell_type": "code",
   "execution_count": null,
   "id": "62e30463-d2a1-480a-8674-d9d09ba016d0",
   "metadata": {},
   "outputs": [],
   "source": []
  }
 ],
 "metadata": {
  "kernelspec": {
   "display_name": "Python 3 (ipykernel)",
   "language": "python",
   "name": "python3"
  },
  "language_info": {
   "codemirror_mode": {
    "name": "ipython",
    "version": 3
   },
   "file_extension": ".py",
   "mimetype": "text/x-python",
   "name": "python",
   "nbconvert_exporter": "python",
   "pygments_lexer": "ipython3",
   "version": "3.12.8"
  }
 },
 "nbformat": 4,
 "nbformat_minor": 5
}
