{
 "cells": [
  {
   "cell_type": "markdown",
   "id": "ceee7447-2048-4058-9f91-bb3690f4ed2b",
   "metadata": {},
   "source": [
    "### Data Science Languages\n",
    "Some of the most popular languages used in data science are:\n",
    "1. Python\n",
    "2. R\n",
    "3. SQL\n",
    "4. Scala\n",
    "5. Julia"
   ]
  },
  {
   "cell_type": "code",
   "execution_count": null,
   "id": "3d059078-64e6-4cba-ac35-6108bf149d1d",
   "metadata": {},
   "outputs": [],
   "source": []
  }
 ],
 "metadata": {
  "kernelspec": {
   "display_name": "Python 3 (ipykernel)",
   "language": "python",
   "name": "python3"
  },
  "language_info": {
   "codemirror_mode": {
    "name": "ipython",
    "version": 3
   },
   "file_extension": ".py",
   "mimetype": "text/x-python",
   "name": "python",
   "nbconvert_exporter": "python",
   "pygments_lexer": "ipython3",
   "version": "3.12.8"
  }
 },
 "nbformat": 4,
 "nbformat_minor": 5
}
