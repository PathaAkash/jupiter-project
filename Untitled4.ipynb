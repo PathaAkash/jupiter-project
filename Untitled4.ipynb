{
 "cells": [
  {
   "cell_type": "markdown",
   "id": "c01f2bc6-3cad-47fa-9025-14c570fa5421",
   "metadata": {},
   "source": [
    "### Data Science Libraries\n",
    "Some of the most commonly used libraries for data science include:\n",
    "* Pandas\n",
    "* NumPy\n",
    "* Matplotlib\n",
    "* Scikit-learn\n",
    "* TensorFlow\n",
    "* PyTorch"
   ]
  },
  {
   "cell_type": "code",
   "execution_count": null,
   "id": "eecf0c1d-4cdd-4714-9a87-5dacf23c9455",
   "metadata": {},
   "outputs": [],
   "source": []
  }
 ],
 "metadata": {
  "kernelspec": {
   "display_name": "Python 3 (ipykernel)",
   "language": "python",
   "name": "python3"
  },
  "language_info": {
   "codemirror_mode": {
    "name": "ipython",
    "version": 3
   },
   "file_extension": ".py",
   "mimetype": "text/x-python",
   "name": "python",
   "nbconvert_exporter": "python",
   "pygments_lexer": "ipython3",
   "version": "3.12.8"
  }
 },
 "nbformat": 4,
 "nbformat_minor": 5
}
