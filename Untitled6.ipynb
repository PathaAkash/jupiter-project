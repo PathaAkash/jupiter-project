{
 "cells": [
  {
   "cell_type": "markdown",
   "id": "83a317f9-5b2c-4d25-afef-2a5ff3091e9c",
   "metadata": {},
   "source": [
    "### Arithmetic Expression Examples\n",
    "Below are a few examples of simple arithmetic expressions in a code cell."
   ]
  },
  {
   "cell_type": "code",
   "execution_count": null,
   "id": "4d9861c9-ff0d-487d-bb1b-b8621febcc73",
   "metadata": {},
   "outputs": [],
   "source": []
  }
 ],
 "metadata": {
  "kernelspec": {
   "display_name": "Python 3 (ipykernel)",
   "language": "python",
   "name": "python3"
  },
  "language_info": {
   "codemirror_mode": {
    "name": "ipython",
    "version": 3
   },
   "file_extension": ".py",
   "mimetype": "text/x-python",
   "name": "python",
   "nbconvert_exporter": "python",
   "pygments_lexer": "ipython3",
   "version": "3.12.8"
  }
 },
 "nbformat": 4,
 "nbformat_minor": 5
}
